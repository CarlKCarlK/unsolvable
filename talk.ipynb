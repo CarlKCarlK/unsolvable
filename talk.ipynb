{
 "cells": [
  {
   "cell_type": "code",
   "execution_count": 1,
   "metadata": {},
   "outputs": [
    {
     "data": {
      "text/latex": [
       "$\\displaystyle -0.967 + \\frac{\\pi}{2}$"
      ],
      "text/plain": [
       "-0.967 + pi/2"
      ]
     },
     "execution_count": 1,
     "metadata": {},
     "output_type": "execute_result"
    }
   ],
   "source": [
    "import sympy as sp\n",
    "\n",
    "x = sp.symbols('x')\n",
    "\n",
    "def kepler(x):\n",
    "    return x - 0.967 * sp.sin(x)\n",
    "\n",
    "kepler(sp.pi/2)"
   ]
  },
  {
   "cell_type": "code",
   "execution_count": 4,
   "metadata": {},
   "outputs": [
    {
     "name": "stdout",
     "output_type": "stream",
     "text": [
      "0.6037963267948966\n",
      "It takes approximately 7.30    Earth years for the comet to move from 0 to π/2 radians.\n"
     ]
    }
   ],
   "source": [
    "import numpy as np\n",
    "\n",
    "def kepler_equation(x):\n",
    "    return x - c * np.sin(x)\n",
    "c = 0.967\n",
    "position_radians = np.pi / 2 # aka 90 degrees\n",
    "time_radians = kepler_equation(position_radians)\n",
    "print(time_radians)\n",
    "orbital_period_earth_years = 76\n",
    "\n",
    "t_earth_years = (time_radians / (2 * np.pi)) * orbital_period_earth_years\n",
    "print(f\"It takes approximately {t_earth_years:.2f}    Earth years for the comet to move from 0 to π/2 radians.\")\n"
   ]
  },
  {
   "cell_type": "code",
   "execution_count": 3,
   "metadata": {},
   "outputs": [
    {
     "data": {
      "text/plain": [
       "1.5707963267948966"
      ]
     },
     "execution_count": 3,
     "metadata": {},
     "output_type": "execute_result"
    }
   ],
   "source": [
    "np.pi/2"
   ]
  },
  {
   "cell_type": "code",
   "execution_count": null,
   "metadata": {},
   "outputs": [],
   "source": []
  }
 ],
 "metadata": {
  "kernelspec": {
   "display_name": ".venv",
   "language": "python",
   "name": "python3"
  },
  "language_info": {
   "codemirror_mode": {
    "name": "ipython",
    "version": 3
   },
   "file_extension": ".py",
   "mimetype": "text/x-python",
   "name": "python",
   "nbconvert_exporter": "python",
   "pygments_lexer": "ipython3",
   "version": "3.13.0"
  }
 },
 "nbformat": 4,
 "nbformat_minor": 2
}
