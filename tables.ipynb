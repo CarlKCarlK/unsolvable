{
 "cells": [
  {
   "cell_type": "markdown",
   "metadata": {},
   "source": [
    "# Tables"
   ]
  },
  {
   "cell_type": "code",
   "execution_count": 1,
   "metadata": {},
   "outputs": [
    {
     "data": {
      "text/markdown": [
       "### Kepler's Equation"
      ],
      "text/plain": [
       "<IPython.core.display.Markdown object>"
      ]
     },
     "metadata": {},
     "output_type": "display_data"
    },
    {
     "data": {
      "text/markdown": [
       "| Equation | Closed-Form (CF) Solution? | CF Solution(s) | A Numeric |\n",
       "|----------|----------|----------|-------|\n",
       "| $x - 0.967 \\sin{\\left(x \\right)} - \\frac{10 \\pi}{19} = 0$ | No? (NotImplementedError) |  | 2.3449 |\n"
      ],
      "text/plain": [
       "<IPython.core.display.Markdown object>"
      ]
     },
     "metadata": {},
     "output_type": "display_data"
    },
    {
     "data": {
      "text/markdown": [
       "### Polynomials"
      ],
      "text/plain": [
       "<IPython.core.display.Markdown object>"
      ]
     },
     "metadata": {},
     "output_type": "display_data"
    },
    {
     "data": {
      "text/markdown": [
       "| Equation | Closed-Form (CF) Solution? | CF Solution(s) | A Numeric |\n",
       "|----------|----------|----------|-------|\n",
       "| $x^{2} - x - 1 = 0$ | Yes, Elementary | $\\{ \\frac{1}{2} - \\frac{\\sqrt{5}}{2}, \\frac{1}{2} + \\frac{\\sqrt{5}}{2} \\}$ | -0.6180 |\n",
       "| $2 x^{3} + x + 1 = 0$ | Yes, Elementary | $\\{{ \\frac{1}{2 \\left(- \\frac{1}{2} - \\frac{\\sqrt{3} i}{2}\\right) \\sqrt[3]{\\frac{27}{4} + \\frac{3 \\sqrt{87}}{4}}} - \\frac{\\left(- \\frac{1}{2} - \\frac{\\sqrt{3} i}{2}\\right) \\sqrt[3]{\\frac{27}{4} + \\frac{3 \\sqrt{87}}{4}}}{3}, \\dots \\}}$ | 0.2949 + 0.8723i |\n",
       "| $x^{5} + 1 = 0$ | Yes, Elementary | $\\{{ -1, \\frac{1}{4} + \\frac{\\sqrt{5}}{4} + i \\sqrt{\\frac{5}{8} - \\frac{\\sqrt{5}}{8}}, \\dots \\}}$ | -1.0000 |\n",
       "| $x^{5} - x - 1 = 0$ | No? (CRootOf) |  | 1.1673 |\n"
      ],
      "text/plain": [
       "<IPython.core.display.Markdown object>"
      ]
     },
     "metadata": {},
     "output_type": "display_data"
    },
    {
     "data": {
      "text/markdown": [
       "### Exp, Log and *x*"
      ],
      "text/plain": [
       "<IPython.core.display.Markdown object>"
      ]
     },
     "metadata": {},
     "output_type": "display_data"
    },
    {
     "data": {
      "text/markdown": [
       "| Equation | Closed-Form (CF) Solution? | CF Solution(s) | A Numeric |\n",
       "|----------|----------|----------|-------|\n",
       "| $x e^{x} = 0$ | Yes, Elementary | $0$ | 0.0000 |\n",
       "| $x e^{x} + \\frac{1}{10} = 0$ | Yes, with W, Exp, Log | $\\{ W\\left(- \\frac{1}{10}\\right), W_{-1}\\left(- \\frac{1}{10}\\right) \\}$ | -0.1118 |\n",
       "| $x + e^{x} = 0$ | Yes, with W, Exp, Log | $- W\\left(1\\right)$ | -0.5671 |\n",
       "| $x \\log{\\left(x \\right)} + 1 = 0$ | Yes, with W, Exp, Log | $e^{W\\left(-1\\right)}$ | 0.1684 + 0.7078i |\n",
       "| $x + \\log{\\left(x \\right)} = 0$ | Yes, with W, Exp, Log | $W\\left(1\\right)$ | 0.5671 |\n",
       "| $x^{2} + \\log{\\left(x \\right)} = 0$ | Yes, with W, Exp, Log | $e^{- \\frac{W\\left(2\\right)}{2}}$ | 0.6529 |\n"
      ],
      "text/plain": [
       "<IPython.core.display.Markdown object>"
      ]
     },
     "metadata": {},
     "output_type": "display_data"
    },
    {
     "data": {
      "text/markdown": [
       "### Exp and Log"
      ],
      "text/plain": [
       "<IPython.core.display.Markdown object>"
      ]
     },
     "metadata": {},
     "output_type": "display_data"
    },
    {
     "data": {
      "text/markdown": [
       "| Equation | Closed-Form (CF) Solution? | CF Solution(s) | A Numeric |\n",
       "|----------|----------|----------|-------|\n",
       "| $e^{x} \\log{\\left(x \\right)} + 1 = 0$ | No? (NotImplementedError) |  | 0.5671 |\n",
       "| $e^{x} + \\log{\\left(x \\right)} = 0$ | No? (NotImplementedError) |  | 0.2699 |\n"
      ],
      "text/plain": [
       "<IPython.core.display.Markdown object>"
      ]
     },
     "metadata": {},
     "output_type": "display_data"
    },
    {
     "data": {
      "text/markdown": [
       "### Trig and Trig Same Frequency"
      ],
      "text/plain": [
       "<IPython.core.display.Markdown object>"
      ]
     },
     "metadata": {},
     "output_type": "display_data"
    },
    {
     "data": {
      "text/markdown": [
       "| Equation | Closed-Form (CF) Solution? | CF Solution(s) | A Numeric |\n",
       "|----------|----------|----------|-------|\n",
       "| $\\sin{\\left(x \\right)} + \\cos{\\left(x \\right)} = 0$ | Yes, Elementary | $- \\frac{\\pi}{4}$ | -0.7854 |\n",
       "| $\\sin{\\left(x \\right)} \\cos{\\left(x \\right)} + 1 = 0$ | Yes, Elementary | $\\{{ - 2 \\operatorname{atan}{\\left(- \\frac{1}{2} + \\frac{\\sqrt{2} \\sqrt{1 - \\sqrt{3} i}}{2} + \\frac{\\sqrt{3} i}{2} \\right)}, \\dots \\}}$ | -0.7854 + -0.6585i |\n",
       "| $\\sin{\\left(x \\right)} + \\sin{\\left(x + 1 \\right)} = 0$ | Yes, Elementary | $\\{ 2 \\operatorname{atan}{\\left(\\frac{1 - \\sqrt{\\tan^{2}{\\left(\\frac{1}{2} \\right)} + 1}}{\\tan{\\left(\\frac{1}{2} \\right)}} \\right)}, 2 \\operatorname{atan}{\\left(\\frac{1 + \\sqrt{\\tan^{2}{\\left(\\frac{1}{2} \\right)} + 1}}{\\tan{\\left(\\frac{1}{2} \\right)}} \\right)} \\}$ | -0.5000 |\n",
       "| $\\sin{\\left(x \\right)} \\sin{\\left(x + 1 \\right)} + 1 = 0$ | Yes, Elementary | $\\{{ - 2 \\operatorname{atan}{\\left(\\frac{- \\tan{\\left(\\frac{1}{2} \\right)} + \\sqrt{-1 + \\tan^{4}{\\left(\\frac{1}{2} \\right)} + 2 \\tan^{2}{\\left(\\frac{1}{2} \\right)} - 2 i \\sqrt{\\tan^{2}{\\left(\\frac{1}{2} \\right)} + 2} \\tan{\\left(\\frac{1}{2} \\right)}} + i \\sqrt{\\tan^{2}{\\left(\\frac{1}{2} \\right)} + 2}}{\\tan^{2}{\\left(\\frac{1}{2} \\right)} + 1} \\right)}, \\dots \\}}$ | -0.5000 + -0.7921i |\n"
      ],
      "text/plain": [
       "<IPython.core.display.Markdown object>"
      ]
     },
     "metadata": {},
     "output_type": "display_data"
    },
    {
     "data": {
      "text/markdown": [
       "### Trig and Trig, Commensurate Frequencies"
      ],
      "text/plain": [
       "<IPython.core.display.Markdown object>"
      ]
     },
     "metadata": {},
     "output_type": "display_data"
    },
    {
     "data": {
      "text/markdown": [
       "| Equation | Closed-Form (CF) Solution? | CF Solution(s) | A Numeric |\n",
       "|----------|----------|----------|-------|\n",
       "| $\\sin{\\left(x \\right)} + \\sin{\\left(3 x \\right)} = 0$ | Yes, Elementary | $\\{{ 0, - \\frac{\\pi}{2}, \\frac{\\pi}{2}, \\pi, \\dots \\}}$ | 0.0000 |\n",
       "| $\\sin{\\left(x \\right)} + \\sin{\\left(3 x \\right)} + 1 = 0$ | Returns 0 Solutions |  | -0.2730 |\n",
       "| $\\sin{\\left(x \\right)} \\sin{\\left(3 x \\right)} + 1 = 0$ | Yes, Elementary | $\\{{ - \\frac{\\pi}{2}, \\frac{\\pi}{2}, i \\log{\\left(- \\frac{1}{2} + \\frac{\\sqrt{5}}{2} \\right)}, i \\log{\\left(\\frac{1}{2} + \\frac{\\sqrt{5}}{2} \\right)}, \\dots \\}}$ | -1.5708 |\n",
       "| $\\sin{\\left(3 x \\right)} + \\sin{\\left(x + 1 \\right)} = 0$ | Timeout |  | 1.3208 |\n",
       "| $\\sin{\\left(3 x \\right)} \\sin{\\left(x + 1 \\right)} + 1 = 0$ | Timeout |  | ValueError |\n"
      ],
      "text/plain": [
       "<IPython.core.display.Markdown object>"
      ]
     },
     "metadata": {},
     "output_type": "display_data"
    },
    {
     "data": {
      "text/markdown": [
       "### Trig and Trig, Non-Commensurate Frequencies"
      ],
      "text/plain": [
       "<IPython.core.display.Markdown object>"
      ]
     },
     "metadata": {},
     "output_type": "display_data"
    },
    {
     "data": {
      "text/markdown": [
       "| Equation | Closed-Form (CF) Solution? | CF Solution(s) | A Numeric |\n",
       "|----------|----------|----------|-------|\n",
       "| $\\sin{\\left(x \\right)} + \\sin{\\left(\\sqrt{3} x \\right)} = 0$ | Yes, Elementary | $\\{ 0, - \\frac{\\pi \\left(1 + \\sqrt{3}\\right)}{2} \\}$ | 0.0000 |\n",
       "| $\\sin{\\left(x \\right)} + \\sin{\\left(\\sqrt{3} x \\right)} + 1 = 0$ | No? (NotImplementedError) |  | -0.3876 |\n",
       "| $\\sin{\\left(\\sqrt{3} x \\right)} + \\sin{\\left(x + 1 \\right)} = 0$ | No? (PolynomialDivisionFailed) |  | 1.9338 |\n",
       "| $\\sin{\\left(x \\right)} \\sin{\\left(\\sqrt{3} x \\right)} + 1 = 0$ | No? (NotImplementedError) |  | ValueError |\n",
       "| $\\sin{\\left(\\sqrt{3} x \\right)} \\sin{\\left(x + 1 \\right)} + 1 = 0$ | No? (NotImplementedError) |  | ValueError |\n"
      ],
      "text/plain": [
       "<IPython.core.display.Markdown object>"
      ]
     },
     "metadata": {},
     "output_type": "display_data"
    },
    {
     "data": {
      "text/markdown": [
       "### Trigonometric and *x*, Exp, Log"
      ],
      "text/plain": [
       "<IPython.core.display.Markdown object>"
      ]
     },
     "metadata": {},
     "output_type": "display_data"
    },
    {
     "data": {
      "text/markdown": [
       "| Equation | Closed-Form (CF) Solution? | CF Solution(s) | A Numeric |\n",
       "|----------|----------|----------|-------|\n",
       "| $x + \\sin{\\left(x \\right)} = 0$ | No? (NotImplementedError) |  | 0.0000 |\n",
       "| $x \\sin{\\left(x \\right)} + 1 = 0$ | No? (NotImplementedError) |  | 3.4368 |\n",
       "| $\\log{\\left(x \\right)} + \\sin{\\left(x \\right)} = 0$ | No? (NotImplementedError) |  | 0.5787 |\n",
       "| $e^{x} + \\sin{\\left(x \\right)} = 0$ | No? (NotImplementedError) |  | -0.5885 |\n",
       "| $x^{3} + \\cos{\\left(x \\right)} = 0$ | No? (NotImplementedError) |  | -0.8655 |\n",
       "| $e^{x} + \\sin{\\left(x \\right)} = 0$ | No? (NotImplementedError) |  | -0.5885 |\n"
      ],
      "text/plain": [
       "<IPython.core.display.Markdown object>"
      ]
     },
     "metadata": {},
     "output_type": "display_data"
    }
   ],
   "source": [
    "import sympy as sym\n",
    "from combos import try_to_solve, generate_markdown_table, split_on_predicate\n",
    "from IPython.display import Markdown, display\n",
    "from sympy import sin, cos, exp, log, sqrt, pi, Rational\n",
    "\n",
    "\n",
    "# Define the symbolic variable x and numerator 1\n",
    "x = sym.symbols(\"x\")\n",
    "one = sym.Integer(1)\n",
    "\n",
    "# Transformed combinations into single expressions (add 1 to all multiply cases)\n",
    "expressions = [\n",
    "    \"Kepler's Equation\",\n",
    "    x - 0.967 * sin(x) - Rational(20,76) * 2 * pi,\n",
    "    \"Polynomials\",\n",
    "    x**2 + (-x - 1),\n",
    "    2 * x**3 + x + 1,\n",
    "    x**2 * x**3 + 1,\n",
    "    x**5 + (-x - 1),\n",
    "    \"Exp, Log and *x*\",\n",
    "    x * exp(x),\n",
    "    x * exp(x) + Rational(1,10),\n",
    "    x + exp(x),\n",
    "    x * log(x) + 1,\n",
    "    x + log(x),\n",
    "    x**2 + log(x),\n",
    "    \"Exp and Log\",\n",
    "    log(x) * exp(x) + 1,\n",
    "    log(x) + exp(x),\n",
    "    \"Trig and Trig Same Frequency\",\n",
    "    cos(x) + sin(x),\n",
    "    cos(x) * sin(x) + 1,\n",
    "    sin(x) + sin(x + 1),\n",
    "    sin(x) * sin(x + 1) + 1,\n",
    "    \"Trig and Trig, Commensurate Frequencies\",\n",
    "    sin(3 * x) + sin(x),\n",
    "    sin(3 * x) + (sin(x) + 1),\n",
    "    sin(3 * x) * sin(x) + 1,\n",
    "    [sin(3 * x) + sin(x + 1)],\n",
    "    [sin(3 * x) * sin(x + 1) + 1],\n",
    "    \"Trig and Trig, Non-Commensurate Frequencies\",\n",
    "    sin(sqrt(3) * x) + sin(x),\n",
    "    sin(sqrt(3) * x) + (sin(x) + 1),\n",
    "    sin(sqrt(3) * x) + sin(x + 1),\n",
    "    sin(sqrt(3) * x) * sin(x) + 1,\n",
    "    sin(sqrt(3) * x) * sin(x + 1) + 1,\n",
    "    \"Trigonometric and *x*, Exp, Log\",\n",
    "    x + sin(x),\n",
    "    x * sin(x) + 1,\n",
    "    sin(x) + log(x),\n",
    "    exp(x) + sin(x),\n",
    "    x**3 + cos(x),\n",
    "    sin(x) + exp(x),\n",
    "]\n",
    "\n",
    "\n",
    "groups = split_on_predicate(expressions, lambda x: isinstance(x, str))\n",
    "\n",
    "markdown_output = \"\"\n",
    "for group in groups:\n",
    "    group_title = f\"### {group[0]}\"\n",
    "    display(Markdown(group_title))\n",
    "    markdown_output += group_title + \"\\n\\n\"\n",
    "    results = [try_to_solve(expression, variable=x) for expression in group[1:]]\n",
    "    table = generate_markdown_table(results)\n",
    "    display(Markdown(table))\n",
    "    markdown_output += table + \"\\n\\n\"\n",
    "\n",
    "with open(\"table.md\", \"w\") as f:\n",
    "    f.write(markdown_output)\n"
   ]
  },
  {
   "cell_type": "markdown",
   "metadata": {},
   "source": []
  }
 ],
 "metadata": {
  "kernelspec": {
   "display_name": ".venv",
   "language": "python",
   "name": "python3"
  },
  "language_info": {
   "codemirror_mode": {
    "name": "ipython",
    "version": 3
   },
   "file_extension": ".py",
   "mimetype": "text/x-python",
   "name": "python",
   "nbconvert_exporter": "python",
   "pygments_lexer": "ipython3",
   "version": "3.13.0"
  }
 },
 "nbformat": 4,
 "nbformat_minor": 2
}
